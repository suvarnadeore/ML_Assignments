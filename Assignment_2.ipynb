{
 "cells": [
  {
   "cell_type": "markdown",
   "metadata": {},
   "source": [
    "### 1. Create the below pattern using nested for loop in Python."
   ]
  },
  {
   "cell_type": "markdown",
   "metadata": {},
   "source": [
    "    *\n",
    "    **\n",
    "    ***\n",
    "    ****\n",
    "    *****\n",
    "    ****\n",
    "    ***\n",
    "    **\n",
    "    *"
   ]
  },
  {
   "cell_type": "code",
   "execution_count": 8,
   "metadata": {},
   "outputs": [
    {
     "name": "stdout",
     "output_type": "stream",
     "text": [
      "\n",
      "*\n",
      "**\n",
      "***\n",
      "****\n",
      "*****\n",
      "**** \n",
      "*** \n",
      "** \n",
      "* \n"
     ]
    }
   ],
   "source": [
    "# here we  have divided pattern in two parts. 1st for loop is for incrementing the * .And second for loop for decrementing the *.\n",
    "for i in range(0,6):\n",
    "    str=\"*\"*i        #Printing * with ith time.\n",
    "    print(str)\n",
    "for i in range(4,0,-1):  # Decrementing the *\n",
    "    str=\"*\"*i+\" \"   # printing * for ith number of times and attach spece at the end\n",
    "    print(str)\n",
    "    "
   ]
  },
  {
   "cell_type": "markdown",
   "metadata": {},
   "source": [
    "### 2. Write a Python program to reverse a word after accepting the input from the user \n",
    " Sample Output\n",
    " \n",
    " \n",
    "Input word: ineuron\n",
    "\n",
    "Output: norueni"
   ]
  },
  {
   "cell_type": "code",
   "execution_count": 16,
   "metadata": {},
   "outputs": [
    {
     "name": "stdout",
     "output_type": "stream",
     "text": [
      "Enter word to reverse:ineuron\n",
      "Output: norueni\n"
     ]
    }
   ],
   "source": [
    "def reverseWord(word):  #Created function reverseWord\n",
    "    print(f\"Output: {word[::-1]}\")  #Reversed the word\n",
    "    \n",
    "word=input('Enter word to reverse:') # Accepted word from user\n",
    "reverseWord(word) #called the  function of reverseWord"
   ]
  },
  {
   "cell_type": "code",
   "execution_count": null,
   "metadata": {},
   "outputs": [],
   "source": []
  }
 ],
 "metadata": {
  "kernelspec": {
   "display_name": "Python 3",
   "language": "python",
   "name": "python3"
  },
  "language_info": {
   "codemirror_mode": {
    "name": "ipython",
    "version": 3
   },
   "file_extension": ".py",
   "mimetype": "text/x-python",
   "name": "python",
   "nbconvert_exporter": "python",
   "pygments_lexer": "ipython3",
   "version": "3.7.3"
  }
 },
 "nbformat": 4,
 "nbformat_minor": 2
}
